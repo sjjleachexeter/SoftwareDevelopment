{
 "cells": [
  {
   "cell_type": "markdown",
   "id": "fc792ce3",
   "metadata": {},
   "source": [
    "## Concurrency II\n"
   ]
  },
  {
   "cell_type": "markdown",
   "id": "d936520d",
   "metadata": {},
   "source": [
    "### Deadlock, starvation and livelock\n",
    "But there are other methods\n",
    "- wait() and notify()\n",
    "- join()\n",
    "- yield()\n",
    "- lock\n",
    "\n",
    "---\n",
    "#### Deadlock\n",
    "> Both threads are dependent on resources held by the other, so they are in a *deadlock*\n",
    "How do we resolve this?\n",
    "\n",
    "\n",
    "---\n",
    "#### Starvation\n",
    "> When a greedy thread hogs access to resources like a dick so another thread *starves*\n",
    "How do we resolve this?\n",
    "\n",
    "---\n",
    "#### Livelock\n",
    "> When 2 threads are responding to each other too much to actually work \n",
    "How do we resolve this?"
   ]
  },
  {
   "cell_type": "code",
   "execution_count": null,
   "id": "b3c19e19",
   "metadata": {
    "vscode": {
     "languageId": "plaintext"
    }
   },
   "outputs": [],
   "source": [
    "//thread class\n",
    "public static void sleep() throws InnterruptedException\n",
    "//only woken up by interruption not by notify\n",
    "public static void yield()\n",
    "//currently executing thread is put on hold to alow others threads to execute\n",
    "publiic final void join() throws InterruptedException\n",
    "//allows one thread to wait for the others completion"
   ]
  },
  {
   "cell_type": "code",
   "execution_count": null,
   "id": "fed05601",
   "metadata": {
    "vscode": {
     "languageId": "plaintext"
    }
   },
   "outputs": [],
   "source": [
    "//object class\n",
    "public final void wait()\n",
    "//woken up by notify\n",
    "public final void notify()\n",
    "bulic final void notifyAll()\n",
    "//all threads that are waiting not just a specific"
   ]
  },
  {
   "cell_type": "markdown",
   "id": "47372477",
   "metadata": {},
   "source": [
    "### Thread Life-cycle\n",
    "New -->  Runnable   -->    Running -->  Dead\n",
    "          |_ Waiting, sleeping _|\n",
    "                 blocking\n",
    "\n"
   ]
  }
 ],
 "metadata": {
  "language_info": {
   "name": "python"
  }
 },
 "nbformat": 4,
 "nbformat_minor": 5
}
